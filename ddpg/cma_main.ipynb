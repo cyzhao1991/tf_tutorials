{
 "cells": [
  {
   "cell_type": "code",
   "execution_count": 1,
   "metadata": {
    "collapsed": false,
    "deletable": true,
    "editable": true
   },
   "outputs": [],
   "source": [
    "from __future__ import print_function\n",
    "import numpy as np\n",
    "import tensorflow as tf\n",
    "# from actor import ActorNetwork\n",
    "# from rbfActor import RbfActorNetwork\n",
    "# from critic import CriticNetwork\n",
    "from actorCma import ActorCmaNetwork \n",
    "# from replay_buffer import ReplayBuffer\n",
    "# from ounoise import OUNoise\n",
    "import gym, time, cma\n",
    "from Envs.reaching import ReachingEnv\n",
    "# from Envs.throwing import ThrowingEnv\n",
    "import matplotlib.pyplot as plt"
   ]
  },
  {
   "cell_type": "code",
   "execution_count": 2,
   "metadata": {
    "collapsed": false,
    "deletable": true,
    "editable": true
   },
   "outputs": [],
   "source": [
    "MAX_EPISODE = 1000\n",
    "MAX_TIME = 200\n",
    "RANDOM_SEED = 1926\n",
    "\n",
    "goal_pos = np.array([[-1.7691047 , -1.76426373],\n",
    "       [-1.81476041,  1.25572033],\n",
    "       [ 1.97538345,  1.7239961 ],\n",
    "       [ 0.49885795,  1.82511657],\n",
    "       [-1.45703216,  1.39941234],\n",
    "       [ 0.49100693,  0.12822174],\n",
    "       [ 0.14809867, -1.31716354],\n",
    "       [-1.30413931,  1.79390377],\n",
    "       [-0.60087002,  1.90940639],\n",
    "       [ 1.29273111,  1.85736147]])\n",
    "\n",
    "env = ReachingEnv(include_t = True)\n",
    "# env = ThrowingEnv(include_t = True)\n",
    "tf.set_random_seed(RANDOM_SEED)\n",
    "state_dim = env.observation_space.shape[0]\n",
    "action_dim = env.action_space.shape[0]\n",
    "action_bound = env.action_space.high\n",
    "sess = tf.Session()\n",
    "\n",
    "hidden_layer_dim = [40,30]\n",
    "if len(hidden_layer_dim) == 2:\n",
    "    bound1 = state_dim * hidden_layer_dim[0]\n",
    "    bound2 = bound1 + hidden_layer_dim[0]*hidden_layer_dim[1]\n",
    "    bound3 = bound2 + hidden_layer_dim[1]*action_dim\n",
    "    bound4 = bound3 + hidden_layer_dim[0]\n",
    "    bound5 = bound4 + hidden_layer_dim[1]\n",
    "    total_length = bound5\n",
    "elif len(hidden_layer_dim) == 1:\n",
    "    bound1 = state_dim * hidden_layer_dim[0]\n",
    "    bound2 = bound1 + hidden_layer_dim[0]*action_dim\n",
    "    bound3 = bound2 + hidden_layer_dim[0]\n",
    "    total_length = bound3"
   ]
  },
  {
   "cell_type": "code",
   "execution_count": 3,
   "metadata": {
    "collapsed": false,
    "deletable": true,
    "editable": true
   },
   "outputs": [],
   "source": [
    "actor = ActorCmaNetwork(sess, state_dim, action_dim, action_bound, hidden_layer_dim = hidden_layer_dim, seed = RANDOM_SEED)"
   ]
  },
  {
   "cell_type": "code",
   "execution_count": 4,
   "metadata": {
    "collapsed": false,
    "deletable": true,
    "editable": true
   },
   "outputs": [],
   "source": [
    "def cost_fcn_cma(network_vec, env):\n",
    "    state = env.reset()\n",
    "    net_dict = wrap_network(network_vec, len(hidden_layer_dim))\n",
    "    reward_list = []\n",
    "    for t in range(MAX_TIME):\n",
    "        action = actor.predict(np.reshape(state, (-1, state_dim)), net_dict)\n",
    "        action = np.clip(action, -action_bound, action_bound)\n",
    "        action = np.reshape(action, action_dim)\n",
    "        next_state, reward, done, info = env.step(action)\n",
    "        reward_list.append(reward)\n",
    "        if done:\n",
    "            break\n",
    "        state = next_state\n",
    "#         if t%100 == 0:\n",
    "# #             print(action)\n",
    "    return -np.sum(reward_list)"
   ]
  },
  {
   "cell_type": "code",
   "execution_count": 5,
   "metadata": {
    "collapsed": true,
    "deletable": true,
    "editable": true
   },
   "outputs": [],
   "source": [
    "def wrap_network(network_vector, net_depth = 2):\n",
    "    \n",
    "    net_dict = {}\n",
    "    if net_depth == 2:\n",
    "        bound1 = state_dim*hidden_layer_dim[0]\n",
    "        bound2 = bound1 + hidden_layer_dim[0]*hidden_layer_dim[1]\n",
    "        bound3 = bound2 + hidden_layer_dim[1]*action_dim\n",
    "        bound4 = bound3 + hidden_layer_dim[0]\n",
    "        bound5 = bound4 + hidden_layer_dim[1]\n",
    "        net_dict['weights1'] = np.reshape(network_vector[0:bound1], [state_dim, hidden_layer_dim[0]])\n",
    "        net_dict['weights2'] = np.reshape(network_vector[bound1:bound2], [hidden_layer_dim[0], hidden_layer_dim[1]])\n",
    "        net_dict['weights3'] = np.reshape(network_vector[bound2:bound3], [hidden_layer_dim[1], action_dim])\n",
    "        net_dict['bias1'] = np.reshape(network_vector[bound3:bound4], [hidden_layer_dim[0]])\n",
    "        net_dict['bias2'] = np.reshape(network_vector[bound4:bound5], [hidden_layer_dim[1]])\n",
    "    elif net_depth == 1:\n",
    "        bound1 = state_dim * hidden_layer_dim[0]\n",
    "        bound2 = bound1 + hidden_layer_dim[0]*action_dim\n",
    "        bound3 = bound2 + hidden_layer_dim[0]\n",
    "        net_dict['weights1'] = np.reshape(network_vector[0:bound1], [state_dim, hidden_layer_dim[0]])\n",
    "        net_dict['weights2'] = np.reshape(network_vector[bound1:bound2], [hidden_layer_dim[0], action_dim])\n",
    "        net_dict['bias1'] = np.reshape(network_vector[bound2:bound3], [hidden_layer_dim[0]])\n",
    "    return net_dict\n",
    "\n"
   ]
  },
  {
   "cell_type": "code",
   "execution_count": 6,
   "metadata": {
    "collapsed": false,
    "deletable": true,
    "editable": true
   },
   "outputs": [
    {
     "name": "stderr",
     "output_type": "stream",
     "text": [
      "/usr/local/lib/python2.7/dist-packages/cma.py:2938: FutureWarning: elementwise comparison failed; returning scalar instead, but in the future will perform elementwise comparison\n",
      "  if x0 == str(x0):\n"
     ]
    },
    {
     "name": "stdout",
     "output_type": "stream",
     "text": [
      "(12_w,25)-aCMA-ES (mu_w=7.3,w_1=23%) in dimension 1530 (seed=935492, Tue Jun  6 13:15:35 2017)\n",
      "Iterat #Fevals   function value  axis ratio  sigma  min&max std  t[m:s]\n",
      "    1     25 1.922868886973092e+02 1.0e+00 9.95e-01  1e+00  1e+00 0:15.1\n",
      "    2     50 1.725685089320600e+02 1.0e+00 9.90e-01  1e+00  1e+00 0:29.4\n",
      "    3     75 1.492094499221072e+02 1.0e+00 9.85e-01  1e+00  1e+00 0:44.4\n",
      "    4    100 1.037170801195915e+02 1.0e+00 9.80e-01  1e+00  1e+00 0:59.1\n",
      "    5    125 1.344995427315829e+02 1.0e+00 9.76e-01  1e+00  1e+00 1:13.1\n",
      "    6    150 1.875021948930822e+02 1.0e+00 9.71e-01  1e+00  1e+00 1:26.9\n",
      "    7    175 6.356764495640721e+01 1.0e+00 9.67e-01  1e+00  1e+00 1:40.3\n",
      "    8    200 7.073946384127721e+01 1.0e+00 9.63e-01  1e+00  1e+00 1:56.9\n",
      "    9    225 1.168150110803258e+02 1.0e+00 9.59e-01  1e+00  1e+00 2:12.7\n",
      "   10    250 4.710009763745898e+01 1.0e+00 9.56e-01  1e+00  1e+00 2:28.3\n",
      "Iterat #Fevals   function value  axis ratio  sigma  min&max std  t[m:s]\n",
      "   11    275 5.654974574254891e+01 1.0e+00 9.52e-01  1e+00  1e+00 2:43.2\n",
      "   12    300 4.916238070178366e+01 1.0e+00 9.49e-01  9e-01  9e-01 2:58.4\n",
      "   13    325 6.831004729295175e+01 1.0e+00 9.45e-01  9e-01  9e-01 3:56.0\n",
      "   14    350 8.529739677709061e+01 1.0e+00 9.42e-01  9e-01  9e-01 4:18.0\n",
      "   15    375 4.167717512475336e+01 1.0e+00 9.39e-01  9e-01  9e-01 4:33.0\n",
      "   16    400 5.969474325900156e+01 1.0e+00 9.35e-01  9e-01  9e-01 4:48.5\n",
      "   17    425 4.679785948945107e+01 1.0e+00 9.32e-01  9e-01  9e-01 5:3.8\n",
      "   18    450 5.361673465805596e+01 1.0e+00 9.29e-01  9e-01  9e-01 5:18.5\n",
      "   19    475 4.353148608052869e+01 1.0e+00 9.26e-01  9e-01  9e-01 5:34.8\n",
      "   20    500 4.120495919465749e+01 1.0e+00 9.23e-01  9e-01  9e-01 5:50.5\n",
      "Iterat #Fevals   function value  axis ratio  sigma  min&max std  t[m:s]\n",
      "   21    525 3.586792761939070e+01 1.0e+00 9.21e-01  9e-01  9e-01 6:4.9\n",
      "   22    550 3.605617353908917e+01 1.0e+00 9.18e-01  9e-01  9e-01 6:18.8\n",
      "   23    575 4.509691843969677e+01 1.0e+00 9.15e-01  9e-01  9e-01 6:34.7\n",
      "   24    600 3.816180584599463e+01 1.0e+00 9.12e-01  9e-01  9e-01 6:49.6\n",
      "   25    625 4.346479540937736e+01 1.0e+00 9.10e-01  9e-01  9e-01 7:44.7\n",
      "   26    650 3.903939112284422e+01 1.0e+00 9.07e-01  9e-01  9e-01 8:6.7\n",
      "   27    675 3.739992846798819e+01 1.0e+00 9.05e-01  9e-01  9e-01 8:22.5\n",
      "   28    700 3.479748311686748e+01 1.0e+00 9.02e-01  9e-01  9e-01 8:38.3\n",
      "   29    725 3.469328574295823e+01 1.0e+00 9.00e-01  9e-01  9e-01 8:54.3\n",
      "   30    750 3.093644553745365e+01 1.0e+00 8.98e-01  9e-01  9e-01 9:9.5\n",
      "Iterat #Fevals   function value  axis ratio  sigma  min&max std  t[m:s]\n",
      "   31    775 3.113796121442530e+01 1.0e+00 8.96e-01  9e-01  9e-01 9:25.3\n",
      "   32    800 3.059504258362528e+01 1.0e+00 8.93e-01  9e-01  9e-01 9:41.0\n",
      "   33    825 3.174031283404577e+01 1.0e+00 8.91e-01  9e-01  9e-01 9:56.0\n",
      "   34    850 3.015919814350844e+01 1.0e+00 8.89e-01  9e-01  9e-01 10:11.9\n",
      "   35    875 3.377473884194493e+01 1.0e+00 8.87e-01  9e-01  9e-01 10:26.7\n",
      "   36    900 2.975486761163462e+01 1.0e+00 8.85e-01  9e-01  9e-01 10:42.7\n",
      "   37    925 3.171950051313449e+01 1.0e+00 8.83e-01  9e-01  9e-01 11:39.4\n",
      "   38    950 2.981214546950687e+01 1.0e+00 8.81e-01  9e-01  9e-01 12:1.6\n",
      "   39    975 3.030116885075328e+01 1.0e+00 8.79e-01  9e-01  9e-01 12:23.8\n",
      "   40   1000 3.032627365047334e+01 1.0e+00 8.77e-01  9e-01  9e-01 12:39.4\n"
     ]
    },
    {
     "data": {
      "text/plain": [
       "(array([-1.99143779,  4.24092834, -9.9389795 , ...,  2.45039636,\n",
       "         0.95360646, -0.08335201]),\n",
       " 29.754867611634623,\n",
       " 891,\n",
       " 1000,\n",
       " 40,\n",
       " array([-0.66365851,  4.65902905, -8.89400246, ...,  3.01462845,\n",
       "         0.64587625, -0.71363907]),\n",
       " array([ 0.87681366,  0.87680533,  0.8768039 , ...,  0.87692496,\n",
       "         0.87676647,  0.87679917]))"
      ]
     },
     "execution_count": 6,
     "metadata": {},
     "output_type": "execute_result"
    }
   ],
   "source": [
    "init_policy_vec = np.random.normal(0., 1., total_length)\n",
    "init_policy_vec[bound2:bound3] /= 333. \n",
    "# sigma0 = np.ones(total_length)\n",
    "# sigma0[bound1:bound2] /= 33.\n",
    "sigma0 = 1.\n",
    "es = cma.CMAEvolutionStrategy(init_policy_vec,sigma0)\n",
    "objfun = lambda network_vec: cost_fcn_cma(network_vec, env)\n",
    "logger = cma.CMADataLogger().register(es)\n",
    "es.optimize(objfun, verb_disp = True, iterations = 40)"
   ]
  },
  {
   "cell_type": "code",
   "execution_count": 9,
   "metadata": {
    "collapsed": false,
    "deletable": true,
    "editable": true
   },
   "outputs": [
    {
     "data": {
      "text/plain": [
       "<cma.CMAEvolutionStrategy at 0x7f27041fd110>"
      ]
     },
     "execution_count": 9,
     "metadata": {},
     "output_type": "execute_result"
    }
   ],
   "source": []
  },
  {
   "cell_type": "code",
   "execution_count": null,
   "metadata": {
    "collapsed": true,
    "deletable": true,
    "editable": true
   },
   "outputs": [],
   "source": []
  }
 ],
 "metadata": {
  "kernelspec": {
   "display_name": "Python 2",
   "language": "python",
   "name": "python2"
  },
  "language_info": {
   "codemirror_mode": {
    "name": "ipython",
    "version": 2
   },
   "file_extension": ".py",
   "mimetype": "text/x-python",
   "name": "python",
   "nbconvert_exporter": "python",
   "pygments_lexer": "ipython2",
   "version": "2.7.6"
  }
 },
 "nbformat": 4,
 "nbformat_minor": 2
}
