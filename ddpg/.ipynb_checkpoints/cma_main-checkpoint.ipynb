{
 "cells": [
  {
   "cell_type": "code",
   "execution_count": 1,
   "metadata": {
    "collapsed": false,
    "deletable": true,
    "editable": true
   },
   "outputs": [],
   "source": [
    "from __future__ import print_function\n",
    "import numpy as np\n",
    "import tensorflow as tf\n",
    "# from actor import ActorNetwork\n",
    "# from rbfActor import RbfActorNetwork\n",
    "# from critic import CriticNetwork\n",
    "from actorCma import ActorCmaNetwork \n",
    "# from replay_buffer import ReplayBuffer\n",
    "# from ounoise import OUNoise\n",
    "import gym, time, cma\n",
    "from Envs.reaching import ReachingEnv\n",
    "# from Envs.throwing import ThrowingEnv\n",
    "import matplotlib.pyplot as plt"
   ]
  },
  {
   "cell_type": "code",
   "execution_count": 2,
   "metadata": {
    "collapsed": false,
    "deletable": true,
    "editable": true
   },
   "outputs": [],
   "source": [
    "MAX_EPISODE = 1000\n",
    "MAX_TIME = 200\n",
    "RANDOM_SEED = 1926\n",
    "\n",
    "goal_pos = np.array([[-1.7691047 , -1.76426373],\n",
    "       [-1.81476041,  1.25572033],\n",
    "       [ 1.97538345,  1.7239961 ],\n",
    "       [ 0.49885795,  1.82511657],\n",
    "       [-1.45703216,  1.39941234],\n",
    "       [ 0.49100693,  0.12822174],\n",
    "       [ 0.14809867, -1.31716354],\n",
    "       [-1.30413931,  1.79390377],\n",
    "       [-0.60087002,  1.90940639],\n",
    "       [ 1.29273111,  1.85736147]])\n",
    "\n",
    "env = ReachingEnv(include_t = True)\n",
    "# env = ThrowingEnv(include_t = True)\n",
    "tf.set_random_seed(RANDOM_SEED)\n",
    "state_dim = env.observation_space.shape[0]\n",
    "action_dim = env.action_space.shape[0]\n",
    "action_bound = env.action_space.high\n",
    "sess = tf.Session()\n",
    "\n",
    "hidden_layer_dim = [40,30]\n",
    "if len(hidden_layer_dim) == 2:\n",
    "    bound1 = state_dim * hidden_layer_dim[0]\n",
    "    bound2 = bound1 + hidden_layer_dim[0]*hidden_layer_dim[1]\n",
    "    bound3 = bound2 + hidden_layer_dim[1]*action_dim\n",
    "    bound4 = bound3 + hidden_layer_dim[0]\n",
    "    bound5 = bound4 + hidden_layer_dim[1]\n",
    "    total_length = bound5\n",
    "elif len(hidden_layer_dim) == 1:\n",
    "    bound1 = state_dim * hidden_layer_dim[0]\n",
    "    bound2 = bound1 + hidden_layer_dim[0]*action_dim\n",
    "    bound3 = bound2 + hidden_layer_dim[0]\n",
    "    total_length = bound3"
   ]
  },
  {
   "cell_type": "code",
   "execution_count": 3,
   "metadata": {
    "collapsed": false,
    "deletable": true,
    "editable": true
   },
   "outputs": [],
   "source": [
    "actor = ActorCmaNetwork(sess, state_dim, action_dim, action_bound, hidden_layer_dim = hidden_layer_dim, seed = RANDOM_SEED)"
   ]
  },
  {
   "cell_type": "code",
   "execution_count": 4,
   "metadata": {
    "collapsed": false,
    "deletable": true,
    "editable": true
   },
   "outputs": [],
   "source": [
    "def cost_fcn_cma(network_vec, env):\n",
    "    state = env.reset()\n",
    "    net_dict = wrap_network(network_vec, len(hidden_layer_dim))\n",
    "    reward_list = []\n",
    "    for t in range(MAX_TIME):\n",
    "        action = actor.predict(np.reshape(state, (-1, state_dim)), net_dict)\n",
    "        action = np.clip(action, -action_bound, action_bound)\n",
    "        action = np.reshape(action, action_dim)\n",
    "        next_state, reward, done, info = env.step(action)\n",
    "        reward_list.append(reward)\n",
    "        if done:\n",
    "            break\n",
    "        state = next_state\n",
    "#         if t%100 == 0:\n",
    "# #             print(action)\n",
    "    return -np.sum(reward_list)"
   ]
  },
  {
   "cell_type": "code",
   "execution_count": 5,
   "metadata": {
    "collapsed": true,
    "deletable": true,
    "editable": true
   },
   "outputs": [],
   "source": [
    "def wrap_network(network_vector, net_depth = 2):\n",
    "    \n",
    "    net_dict = {}\n",
    "    if net_depth == 2:\n",
    "        bound1 = state_dim*hidden_layer_dim[0]\n",
    "        bound2 = bound1 + hidden_layer_dim[0]*hidden_layer_dim[1]\n",
    "        bound3 = bound2 + hidden_layer_dim[1]*action_dim\n",
    "        bound4 = bound3 + hidden_layer_dim[0]\n",
    "        bound5 = bound4 + hidden_layer_dim[1]\n",
    "        net_dict['weights1'] = np.reshape(network_vector[0:bound1], [state_dim, hidden_layer_dim[0]])\n",
    "        net_dict['weights2'] = np.reshape(network_vector[bound1:bound2], [hidden_layer_dim[0], hidden_layer_dim[1]])\n",
    "        net_dict['weights3'] = np.reshape(network_vector[bound2:bound3], [hidden_layer_dim[1], action_dim])\n",
    "        net_dict['bias1'] = np.reshape(network_vector[bound3:bound4], [hidden_layer_dim[0]])\n",
    "        net_dict['bias2'] = np.reshape(network_vector[bound4:bound5], [hidden_layer_dim[1]])\n",
    "    elif net_depth == 1:\n",
    "        bound1 = state_dim * hidden_layer_dim[0]\n",
    "        bound2 = bound1 + hidden_layer_dim[0]*action_dim\n",
    "        bound3 = bound2 + hidden_layer_dim[0]\n",
    "        net_dict['weights1'] = np.reshape(network_vector[0:bound1], [state_dim, hidden_layer_dim[0]])\n",
    "        net_dict['weights2'] = np.reshape(network_vector[bound1:bound2], [hidden_layer_dim[0], action_dim])\n",
    "        net_dict['bias1'] = np.reshape(network_vector[bound2:bound3], [hidden_layer_dim[0]])\n",
    "    return net_dict\n",
    "\n"
   ]
  },
  {
   "cell_type": "code",
   "execution_count": null,
   "metadata": {
    "collapsed": false,
    "deletable": true,
    "editable": true
   },
   "outputs": [
    {
     "name": "stderr",
     "output_type": "stream",
     "text": [
      "/usr/local/lib/python2.7/dist-packages/cma.py:2938: FutureWarning: elementwise comparison failed; returning scalar instead, but in the future will perform elementwise comparison\n",
      "  if x0 == str(x0):\n"
     ]
    },
    {
     "name": "stdout",
     "output_type": "stream",
     "text": [
      "(12_w,25)-aCMA-ES (mu_w=7.3,w_1=23%) in dimension 1530 (seed=901909, Tue Jun  6 13:11:42 2017)\n",
      "Iterat #Fevals   function value  axis ratio  sigma  min&max std  t[m:s]\n",
      "    1     25 4.614800427273465e+01 1.0e+00 9.95e-01  1e+00  1e+00 0:13.9\n",
      "    2     50 1.272763410733534e+02 1.0e+00 9.90e-01  1e+00  1e+00 0:29.1\n",
      "    3     75 5.929506554744663e+01 1.0e+00 9.85e-01  1e+00  1e+00 0:43.8\n",
      "    4    100 8.474707623206160e+01 1.0e+00 9.80e-01  1e+00  1e+00 0:53.6\n",
      "    5    125 1.205916113509221e+02 1.0e+00 9.76e-01  1e+00  1e+00 1:6.0\n",
      "    6    150 1.400105235214745e+02 1.0e+00 9.71e-01  1e+00  1e+00 1:18.8\n",
      "    7    175 1.458892085038370e+02 1.0e+00 9.67e-01  1e+00  1e+00 1:31.8\n",
      "    8    200 6.707116820011166e+01 1.0e+00 9.63e-01  1e+00  1e+00 1:45.9\n",
      "    9    225 1.003036984920736e+02 1.0e+00 9.59e-01  1e+00  1e+00 1:59.2\n",
      "   10    250 6.325699104294496e+01 1.0e+00 9.56e-01  1e+00  1e+00 2:13.5\n",
      "Iterat #Fevals   function value  axis ratio  sigma  min&max std  t[m:s]\n",
      "   11    275 6.857877913765091e+01 1.0e+00 9.52e-01  1e+00  1e+00 2:28.2\n"
     ]
    }
   ],
   "source": [
    "init_policy_vec = np.random.normal(0., 1., total_length)\n",
    "init_policy_vec[bound2:bound3] /= 333. \n",
    "# sigma0 = np.ones(total_length)\n",
    "# sigma0[bound1:bound2] /= 33.\n",
    "sigma0 = 1.\n",
    "es = cma.CMAEvolutionStrategy(init_policy_vec,sigma0)\n",
    "objfun = lambda network_vec: cost_fcn_cma(network_vec, env)\n",
    "logger = cma.CMADataLogger().register(es)\n",
    "es.optimize(objfun, verb_disp = True, iterations = 40)"
   ]
  },
  {
   "cell_type": "code",
   "execution_count": 9,
   "metadata": {
    "collapsed": false,
    "deletable": true,
    "editable": true
   },
   "outputs": [
    {
     "data": {
      "text/plain": [
       "<cma.CMAEvolutionStrategy at 0x7f27041fd110>"
      ]
     },
     "execution_count": 9,
     "metadata": {},
     "output_type": "execute_result"
    }
   ],
   "source": []
  },
  {
   "cell_type": "code",
   "execution_count": null,
   "metadata": {
    "collapsed": true,
    "deletable": true,
    "editable": true
   },
   "outputs": [],
   "source": []
  }
 ],
 "metadata": {
  "kernelspec": {
   "display_name": "Python 2",
   "language": "python",
   "name": "python2"
  },
  "language_info": {
   "codemirror_mode": {
    "name": "ipython",
    "version": 2
   },
   "file_extension": ".py",
   "mimetype": "text/x-python",
   "name": "python",
   "nbconvert_exporter": "python",
   "pygments_lexer": "ipython2",
   "version": "2.7.6"
  }
 },
 "nbformat": 4,
 "nbformat_minor": 2
}
